{
 "cells": [
  {
   "cell_type": "code",
   "execution_count": null,
   "metadata": {},
   "outputs": [],
   "source": [
    "!pip install python-dotenv"
   ]
  },
  {
   "cell_type": "code",
   "execution_count": null,
   "metadata": {},
   "outputs": [],
   "source": [
    "from dotenv import load_dotenv, find_dotenv"
   ]
  },
  {
   "cell_type": "code",
   "execution_count": null,
   "metadata": {},
   "outputs": [],
   "source": [
    "#find .env automatically by walking up directories until it's found\n",
    "dotenv_path = find_dotenv()\n",
    "#load up the entries as environment variables\n",
    "load_dotenv(dotenv_path)"
   ]
  },
  {
   "cell_type": "code",
   "execution_count": null,
   "metadata": {},
   "outputs": [],
   "source": [
    "\n",
    "KAGGLE_USERNAME = os.environ.get(\"KAGGLE_USERNAME\")\n",
    "print(KAGGLE_USERNAME)"
   ]
  },
  {
   "cell_type": "code",
   "execution_count": null,
   "metadata": {},
   "outputs": [],
   "source": [
    "KAGGLE_PASSWORD = os.environ.get(\"KAGGLE_PASSWORD\")\n",
    "print(KAGGLE_PASSWORD)"
   ]
  },
  {
   "cell_type": "code",
   "execution_count": null,
   "metadata": {},
   "outputs": [],
   "source": [
    "import requests\n",
    "from requests import session\n",
    "import os\n",
    "from dotenv import load_dotenv, find_dotenv\n",
    "from contextlib import closing\n",
    "import csv\n",
    "import logging\n",
    "import os "
   ]
  },
  {
   "cell_type": "code",
   "execution_count": null,
   "metadata": {},
   "outputs": [],
   "source": [
    "payload={\n",
    "    'eamil': os.environ.get(\"KAGGLE_USERNAME\"),\n",
    "    'password': os.environ.get(\"KAGGLE_PASSWORD\"),\n",
    "    'X-XSRF-TOKEN': 'CfDJ8LdUzqlsSWBPr4Ce3rb9VL_y_NbFaUd3UvKyA87g-6f_duSDyTbcvnSdqgsUUd6f9nZZgzvwtknzZy7kB1hVo4NezWLbcDUCa0dwX2diSkdFx6_nXb0oy0eNClalAHBUBJB0YPXmzvED6srSMEKcLjY'\n",
    "}\n",
    "\n",
    "headers = {'cookie': 'ka_sessionid=de5a7b94fc1b8190d230a660db2eeabe; CSRF-TOKEN=CfDJ8LdUzqlsSWBPr4Ce3rb9VL8HNVA6MY5KS81DxnibiALk1rubVNl8mWVI9mGKxhxTn2_7e7VSCEgiYx_VcshnUQGIsyVOqjQBNSFrsVIOBMRlPAIcSB0BYU56cS4PtrBFDJau8LGVGyHqndtWrG7gNW4; GCLB=CLz3y_uEmtrGQA; _ga=GA1.2.1051186253.1587541272; _gid=GA1.2.965433564.1587541272; searchToken=1f4bc0e6-d0f4-4aa5-8d77-3d936b25bf7c; intercom-session-koj6gxx6=dzNYQWdZWjQxQWVwa3hzVEFSTkE1U1pZMUQwaUxPVXZueXR1bnBkOE5GUTVPOWVreGRKSnR3Njd5TUFnNmIwTC0tWTZ2aDlpaFBuRFpGVm1RR2RCaWFwQT09--1b2853c28de7ff83fc33352e16ec8d350fa54b01; XSRF-TOKEN=CfDJ8LdUzqlsSWBPr4Ce3rb9VL_y_NbFaUd3UvKyA87g-6f_duSDyTbcvnSdqgsUUd6f9nZZgzvwtknzZy7kB1hVo4NezWLbcDUCa0dwX2diSkdFx6_nXb0oy0eNClalAHBUBJB0YPXmzvED6srSMEKcLjY; CLIENT-TOKEN=eyJhbGciOiJub25lIiwidHlwIjoiSldUIn0.eyJpc3MiOiJrYWdnbGUiLCJhdWQiOiJjbGllbnQiLCJzdWIiOm51bGwsIm5idCI6IjIwMjAtMDQtMjJUMTA6MTU6NDguNjg3MjAyMloiLCJpYXQiOiIyMDIwLTA0LTIyVDEwOjE1OjQ4LjY4NzIwMjJaIiwianRpIjoiZTE3NzIxMzAtMjZjNC00MjIwLWI4NWItMDczNTZjMzAxN2RmIiwiZXhwIjoiMjAyMC0wNS0yMlQxMDoxNTo0OC42ODcyMDIyWiIsImFub24iOnRydWUsImZmIjpbIkZsZXhpYmxlR3B1IiwiS2VybmVsc0ludGVybmV0IiwiRGF0YUV4cGxvcmVyVjIiLCJEYXRhU291cmNlU2VsZWN0b3JWMiIsIktlcm5lbHNWaWV3ZXJJbm5lclRhYmxlT2ZDb250ZW50cyIsIkZvcnVtV2F0Y2hEZXByZWNhdGVkIiwiTmV3S2VybmVsV2VsY29tZSIsIk1kZUltYWdlVXBsb2FkZXIiLCJLZXJuZWxzUXVpY2tWZXJzaW9ucyIsIkRpc2FibGVDdXN0b21QYWNrYWdlcyIsIlBpbk9yaWdpbmFsRG9ja2VyVmVyc2lvbiIsIlBob25lVmVyaWZ5Rm9yR3B1IiwiQ2xvdWRTZXJ2aWNlc0tlcm5lbEludGVnIiwiVXNlclNlY3JldHNLZXJuZWxJbnRlZyIsIk5hdmlnYXRpb25SZWRlc2lnbiIsIktlcm5lbHNTbmlwcGV0cyIsIktlcm5lbFdlbGNvbWVMb2FkRnJvbVVybCIsIlRwdUtlcm5lbEludGVnIiwiS2VybmVsc0ZpcmViYXNlTG9uZ1BvbGxpbmciLCJEYXRhc2V0TGl2ZU1vdW50IiwiRGF0YXNldHNUYXNrT25Ob3RlYm9va0xpc3RpbmciXX0.; _gat_gtag_UA_12629138_1=1'}\n",
    "\n",
    "url ='https://www.kaggle.com/c/titanic/download/GQf0y8ebHO0C4JXscPPp%2Fversions%2FXkNkvXwqPPVG0Qt3MtQT%2Ffiles%2Ftrain.csv'\n",
    "url2 = 'https://www.kaggle.com/c/titanic/notebooks'\n",
    "#可以成功登入，但是下載csv時還是被擋住了\n",
    "with session() as c:\n",
    "    #post request\n",
    "    \n",
    "    response = c.get(url)\n",
    "    response=c.post('https://www.kaggle.com/account/email-signin?returnUrl=https%3A%2F%2Fwww.kaggle.com%2Fc%2Ftitanic%2Fdata',\n",
    "                    data=payload,headers=headers)\n",
    "    print(response)\n",
    "    for chunk in r.iter_content(chunk_size=(512*1024)):\n",
    "        if chunk:\n",
    "            print(chunk)\n",
    "#     with closing(c.get(url)) as r:\n",
    "#         print(r)\n",
    "#         lines = (line.decode('utf-8') for line in r.iter_lines())\n",
    "#         for row in csv.reader(lines):\n",
    "#             print(row)"
   ]
  },
  {
   "cell_type": "code",
   "execution_count": null,
   "metadata": {},
   "outputs": [],
   "source": [
    "#kaggle登入，下載目前失敗\n",
    "def extract_data(url,file_path):\n",
    "    with session() as c:\n",
    "        c.post('https://www.kaggle.com/account/email-signin?returnUrl=https%3A%2F%2Fwww.kaggle.com%2Fc%2Ftitanic%2Fdata'\n",
    "              data=payload,headers=headers)\n",
    "        with open(file_path,'w') as handle:\n",
    "            response = c.get(url,stream=True)\n",
    "            for block in response.iter_content(1024)\n",
    "                handle.write(block)\n",
    "                \n"
   ]
  },
  {
   "cell_type": "code",
   "execution_count": null,
   "metadata": {
    "scrolled": false
   },
   "outputs": [],
   "source": [
    "#測試下載csv檔案，可以成功\n",
    "url='https://www.stats.govt.nz/assets/Uploads/Annual-enterprise-survey/Annual-enterprise-survey-2018-financial-year-provisional/Download-data/annual-enterprise-survey-2018-financial-year-provisional-csv.csv'\n",
    "with session() as c:\n",
    "    with closing(c.get(url)) as r:\n",
    "        lines = (line.decode('utf-8') for line in r.iter_lines())\n",
    "        for row in csv.reader(lines):\n",
    "            print(row)"
   ]
  },
  {
   "cell_type": "code",
   "execution_count": null,
   "metadata": {},
   "outputs": [],
   "source": [
    "def main(project_dir):\n",
    "    logger= logger.getLogger(__name__)\n",
    "    logger.info('getting raw date')\n",
    "    \n",
    "    train_url = 'https://www.kaggle.com/c/titanic/download/GQf0y8ebHO0C4JXscPPp%2Fversions%2FXkNkvXwqPPVG0Qt3MtQT%2Ffiles%2Ftrain.csv'\n",
    "    test_url = 'http'"
   ]
  }
 ],
 "metadata": {
  "kernelspec": {
   "display_name": "Python 3",
   "language": "python",
   "name": "python3"
  },
  "language_info": {
   "codemirror_mode": {
    "name": "ipython",
    "version": 3
   },
   "file_extension": ".py",
   "mimetype": "text/x-python",
   "name": "python",
   "nbconvert_exporter": "python",
   "pygments_lexer": "ipython3",
   "version": "3.7.6"
  }
 },
 "nbformat": 4,
 "nbformat_minor": 4
}
