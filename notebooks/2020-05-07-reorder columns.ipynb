{
 "cells": [
  {
   "cell_type": "code",
   "execution_count": 1,
   "metadata": {},
   "outputs": [],
   "source": [
    "from getDummiesFile import getDummies"
   ]
  },
  {
   "cell_type": "code",
   "execution_count": 2,
   "metadata": {},
   "outputs": [],
   "source": [
    "#獲取分類特徵編碼\n",
    "df= getDummies()"
   ]
  },
  {
   "cell_type": "code",
   "execution_count": null,
   "metadata": {},
   "outputs": [],
   "source": [
    "\n",
    "df.info()"
   ]
  },
  {
   "cell_type": "code",
   "execution_count": 8,
   "metadata": {},
   "outputs": [],
   "source": [
    "df.drop(['Cabin','Name','Ticket','Parch','SibSp','Sex'],axis=1,inplace=True)\n"
   ]
  },
  {
   "cell_type": "code",
   "execution_count": 9,
   "metadata": {},
   "outputs": [
    {
     "name": "stdout",
     "output_type": "stream",
     "text": [
      "<class 'pandas.core.frame.DataFrame'>\n",
      "Int64Index: 1309 entries, 1 to 1309\n",
      "Data columns (total 34 columns):\n",
      " #   Column              Non-Null Count  Dtype  \n",
      "---  ------              --------------  -----  \n",
      " 0   Survived            1309 non-null   float64\n",
      " 1   Age                 1046 non-null   float64\n",
      " 2   Fare                1308 non-null   float64\n",
      " 3   isMother            1309 non-null   int32  \n",
      " 4   FamilySize          1309 non-null   int64  \n",
      " 5   isMale              1309 non-null   int32  \n",
      " 6   Deck_A              1309 non-null   uint8  \n",
      " 7   Deck_B              1309 non-null   uint8  \n",
      " 8   Deck_C              1309 non-null   uint8  \n",
      " 9   Deck_D              1309 non-null   uint8  \n",
      " 10  Deck_E              1309 non-null   uint8  \n",
      " 11  Deck_F              1309 non-null   uint8  \n",
      " 12  Deck_G              1309 non-null   uint8  \n",
      " 13  Deck_T              1309 non-null   uint8  \n",
      " 14  Deck_Z              1309 non-null   uint8  \n",
      " 15  Fare_Bin_very_low   1309 non-null   uint8  \n",
      " 16  Fare_Bin_low        1309 non-null   uint8  \n",
      " 17  Fare_Bin_high       1309 non-null   uint8  \n",
      " 18  Fare_Bin_very_high  1309 non-null   uint8  \n",
      " 19  Pclass_1            1309 non-null   uint8  \n",
      " 20  Pclass_2            1309 non-null   uint8  \n",
      " 21  Pclass_3            1309 non-null   uint8  \n",
      " 22  Title_'Lady'        1309 non-null   uint8  \n",
      " 23  Title_'Master'      1309 non-null   uint8  \n",
      " 24  Title_'Miss'        1309 non-null   uint8  \n",
      " 25  Title_'Mr'          1309 non-null   uint8  \n",
      " 26  Title_'Mrs'         1309 non-null   uint8  \n",
      " 27  Title_'Officer'     1309 non-null   uint8  \n",
      " 28  Title_'Sir'         1309 non-null   uint8  \n",
      " 29  Embarked_C          1309 non-null   uint8  \n",
      " 30  Embarked_Q          1309 non-null   uint8  \n",
      " 31  Embarked_S          1309 non-null   uint8  \n",
      " 32  AgeState_Adult      1309 non-null   uint8  \n",
      " 33  AgeState_Child      1309 non-null   uint8  \n",
      "dtypes: float64(3), int32(2), int64(1), uint8(28)\n",
      "memory usage: 97.2 KB\n"
     ]
    }
   ],
   "source": [
    "df.info()"
   ]
  },
  {
   "cell_type": "code",
   "execution_count": 10,
   "metadata": {},
   "outputs": [
    {
     "name": "stdout",
     "output_type": "stream",
     "text": [
      "['Age', 'Fare', 'isMother', 'FamilySize', 'isMale', 'Deck_A', 'Deck_B', 'Deck_C', 'Deck_D', 'Deck_E', 'Deck_F', 'Deck_G', 'Deck_T', 'Deck_Z', 'Fare_Bin_very_low', 'Fare_Bin_low', 'Fare_Bin_high', 'Fare_Bin_very_high', 'Pclass_1', 'Pclass_2', 'Pclass_3', \"Title_'Lady'\", \"Title_'Master'\", \"Title_'Miss'\", \"Title_'Mr'\", \"Title_'Mrs'\", \"Title_'Officer'\", \"Title_'Sir'\", 'Embarked_C', 'Embarked_Q', 'Embarked_S', 'AgeState_Adult', 'AgeState_Child']\n",
      "['Survived', 'Age', 'Fare', 'isMother', 'FamilySize', 'isMale', 'Deck_A', 'Deck_B', 'Deck_C', 'Deck_D', 'Deck_E', 'Deck_F', 'Deck_G', 'Deck_T', 'Deck_Z', 'Fare_Bin_very_low', 'Fare_Bin_low', 'Fare_Bin_high', 'Fare_Bin_very_high', 'Pclass_1', 'Pclass_2', 'Pclass_3', \"Title_'Lady'\", \"Title_'Master'\", \"Title_'Miss'\", \"Title_'Mr'\", \"Title_'Mrs'\", \"Title_'Officer'\", \"Title_'Sir'\", 'Embarked_C', 'Embarked_Q', 'Embarked_S', 'AgeState_Adult', 'AgeState_Child']\n",
      "             Survived   Age      Fare  isMother  FamilySize  isMale  Deck_A  \\\n",
      "PassengerId                                                                   \n",
      "1                 0.0  22.0    7.2500         0           2       1       0   \n",
      "2                 1.0  38.0   71.2833         0           2       0       0   \n",
      "3                 1.0  26.0    7.9250         0           1       0       0   \n",
      "4                 1.0  35.0   53.1000         0           2       0       0   \n",
      "5                 0.0  35.0    8.0500         0           1       1       0   \n",
      "...               ...   ...       ...       ...         ...     ...     ...   \n",
      "1305           -888.0   NaN    8.0500         0           1       1       0   \n",
      "1306           -888.0  39.0  108.9000         0           1       0       0   \n",
      "1307           -888.0  38.5    7.2500         0           1       1       0   \n",
      "1308           -888.0   NaN    8.0500         0           1       1       0   \n",
      "1309           -888.0   NaN   22.3583         0           3       1       0   \n",
      "\n",
      "             Deck_B  Deck_C  Deck_D  ...  Title_'Miss'  Title_'Mr'  \\\n",
      "PassengerId                          ...                             \n",
      "1                 0       0       0  ...             0           1   \n",
      "2                 0       1       0  ...             0           0   \n",
      "3                 0       0       0  ...             1           0   \n",
      "4                 0       1       0  ...             0           0   \n",
      "5                 0       0       0  ...             0           1   \n",
      "...             ...     ...     ...  ...           ...         ...   \n",
      "1305              0       0       0  ...             0           1   \n",
      "1306              0       1       0  ...             0           0   \n",
      "1307              0       0       0  ...             0           1   \n",
      "1308              0       0       0  ...             0           1   \n",
      "1309              0       0       0  ...             0           0   \n",
      "\n",
      "             Title_'Mrs'  Title_'Officer'  Title_'Sir'  Embarked_C  \\\n",
      "PassengerId                                                          \n",
      "1                      0                0            0           0   \n",
      "2                      1                0            0           1   \n",
      "3                      0                0            0           0   \n",
      "4                      1                0            0           0   \n",
      "5                      0                0            0           0   \n",
      "...                  ...              ...          ...         ...   \n",
      "1305                   0                0            0           0   \n",
      "1306                   0                0            0           1   \n",
      "1307                   0                0            0           0   \n",
      "1308                   0                0            0           0   \n",
      "1309                   0                0            0           1   \n",
      "\n",
      "             Embarked_Q  Embarked_S  AgeState_Adult  AgeState_Child  \n",
      "PassengerId                                                          \n",
      "1                     0           1               1               0  \n",
      "2                     0           0               1               0  \n",
      "3                     0           1               1               0  \n",
      "4                     0           1               1               0  \n",
      "5                     0           1               1               0  \n",
      "...                 ...         ...             ...             ...  \n",
      "1305                  0           1               0               1  \n",
      "1306                  0           0               1               0  \n",
      "1307                  0           1               1               0  \n",
      "1308                  0           1               0               1  \n",
      "1309                  0           0               0               1  \n",
      "\n",
      "[1309 rows x 34 columns]\n"
     ]
    }
   ],
   "source": [
    "#reorder columns(排序)\n",
    "columns = [column for column in df.columns if column != 'Survived']\n",
    "print(columns)\n",
    "columns = ['Survived']+columns\n",
    "print(columns)\n",
    "df=df[columns]\n",
    "print(df)"
   ]
  },
  {
   "cell_type": "markdown",
   "metadata": {},
   "source": [
    "# Save Dataframe to file using pandas"
   ]
  },
  {
   "cell_type": "code",
   "execution_count": 5,
   "metadata": {},
   "outputs": [],
   "source": [
    "import os\n",
    "processed_data_path = os.path.join(os.path.pardir,\"data\",\"processed\")\n",
    "write_train_path = os.path.join(processed_data_path,'train.csv')\n",
    "write_test_path = os.path.join(processed_data_path,'test.csv')"
   ]
  },
  {
   "cell_type": "code",
   "execution_count": 11,
   "metadata": {},
   "outputs": [
    {
     "name": "stdout",
     "output_type": "stream",
     "text": [
      "              Age      Fare  isMother  FamilySize  isMale  Deck_A  Deck_B  \\\n",
      "PassengerId                                                                 \n",
      "892          34.5    7.8292         0           1       1       0       0   \n",
      "893          47.0    7.0000         0           2       0       0       0   \n",
      "894          62.0    9.6875         0           1       1       0       0   \n",
      "895          27.0    8.6625         0           1       1       0       0   \n",
      "896          22.0   12.2875         1           3       0       0       0   \n",
      "...           ...       ...       ...         ...     ...     ...     ...   \n",
      "1305          NaN    8.0500         0           1       1       0       0   \n",
      "1306         39.0  108.9000         0           1       0       0       0   \n",
      "1307         38.5    7.2500         0           1       1       0       0   \n",
      "1308          NaN    8.0500         0           1       1       0       0   \n",
      "1309          NaN   22.3583         0           3       1       0       0   \n",
      "\n",
      "             Deck_C  Deck_D  Deck_E  ...  Title_'Miss'  Title_'Mr'  \\\n",
      "PassengerId                          ...                             \n",
      "892               0       0       0  ...             0           1   \n",
      "893               0       0       0  ...             0           0   \n",
      "894               0       0       0  ...             0           1   \n",
      "895               0       0       0  ...             0           1   \n",
      "896               0       0       0  ...             0           0   \n",
      "...             ...     ...     ...  ...           ...         ...   \n",
      "1305              0       0       0  ...             0           1   \n",
      "1306              1       0       0  ...             0           0   \n",
      "1307              0       0       0  ...             0           1   \n",
      "1308              0       0       0  ...             0           1   \n",
      "1309              0       0       0  ...             0           0   \n",
      "\n",
      "             Title_'Mrs'  Title_'Officer'  Title_'Sir'  Embarked_C  \\\n",
      "PassengerId                                                          \n",
      "892                    0                0            0           0   \n",
      "893                    1                0            0           0   \n",
      "894                    0                0            0           0   \n",
      "895                    0                0            0           0   \n",
      "896                    1                0            0           0   \n",
      "...                  ...              ...          ...         ...   \n",
      "1305                   0                0            0           0   \n",
      "1306                   0                0            0           1   \n",
      "1307                   0                0            0           0   \n",
      "1308                   0                0            0           0   \n",
      "1309                   0                0            0           1   \n",
      "\n",
      "             Embarked_Q  Embarked_S  AgeState_Adult  AgeState_Child  \n",
      "PassengerId                                                          \n",
      "892                   1           0               1               0  \n",
      "893                   0           1               1               0  \n",
      "894                   1           0               1               0  \n",
      "895                   0           1               1               0  \n",
      "896                   0           1               1               0  \n",
      "...                 ...         ...             ...             ...  \n",
      "1305                  0           1               0               1  \n",
      "1306                  0           0               1               0  \n",
      "1307                  0           1               1               0  \n",
      "1308                  0           1               0               1  \n",
      "1309                  0           0               0               1  \n",
      "\n",
      "[418 rows x 33 columns]\n"
     ]
    }
   ],
   "source": [
    "df.loc[df.Survived!=-888].to_csv(write_train_path)\n",
    "\n",
    "#test data\n",
    "df.Survived.fillna(-888,inplace=True)\n",
    "columns = [column for column in df.columns if column != 'Survived']\n",
    "print(df[df.Survived == -888][columns])\n",
    "df[df.Survived == -888][columns].to_csv(write_test_path)"
   ]
  },
  {
   "cell_type": "code",
   "execution_count": null,
   "metadata": {},
   "outputs": [],
   "source": []
  }
 ],
 "metadata": {
  "kernelspec": {
   "display_name": "Python 3",
   "language": "python",
   "name": "python3"
  },
  "language_info": {
   "codemirror_mode": {
    "name": "ipython",
    "version": 3
   },
   "file_extension": ".py",
   "mimetype": "text/x-python",
   "name": "python",
   "nbconvert_exporter": "python",
   "pygments_lexer": "ipython3",
   "version": "3.7.6"
  }
 },
 "nbformat": 4,
 "nbformat_minor": 4
}
