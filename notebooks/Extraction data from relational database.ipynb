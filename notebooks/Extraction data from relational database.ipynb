{
 "cells": [
  {
   "cell_type": "code",
   "execution_count": null,
   "metadata": {},
   "outputs": [],
   "source": [
    "import sqlite3"
   ]
  },
  {
   "cell_type": "code",
   "execution_count": null,
   "metadata": {},
   "outputs": [],
   "source": [
    "#嘗試在本地文件夾找到db，如果不存在則會創建一個新的\n",
    "connection = sqlite3.connect(\"classroomDB.db\")\n",
    "connection.close()"
   ]
  },
  {
   "cell_type": "code",
   "execution_count": null,
   "metadata": {},
   "outputs": [],
   "source": [
    "connection = sqlite3.connect(\"classroomDB.db\")\n",
    "cursor = connection.cursor()\n",
    "create_table = \"create table classroom (student_id integer primary key \\\n",
    ",name varchar(20),gender char(1),physics_marks integer,chemistry_marks integer,mathematics_marks integer);\"\n",
    "cursor.execute(create_table)\n",
    "connection.commit()\n",
    "connection.close()"
   ]
  },
  {
   "cell_type": "code",
   "execution_count": null,
   "metadata": {},
   "outputs": [],
   "source": [
    "classroom_data = [(1,\"alan\",\"M\",70,80,90),(2,\"nik\",\"M\",60,70,80),(3,\"poonam\",\"M\",78,87,45)]\n",
    "connection = sqlite3.connect(\"classroomDB.db\")\n",
    "cursor = connection.cursor()\n",
    "for student in classroom_data:\n",
    "    insert_stat=\"\"\"insert into classroom (student_id,name,gender,physics_marks,chemistry_marks,mathematics_marks) VALUES \\\n",
    "    ({0},\"{1}\",\"{2}\",{3},{4},{5})\"\"\".format(student[0],student[1],student[2],student[3],student[4],student[5])\n",
    "    \n",
    "    cursor.execute(insert_stat)\n",
    "connection.commit()\n",
    "connection.close()"
   ]
  },
  {
   "cell_type": "code",
   "execution_count": null,
   "metadata": {},
   "outputs": [],
   "source": [
    "connection = sqlite3.connect(\"classroomDB.db\")\n",
    "cursor = connection.cursor()\n",
    "select_stat =\"select * from classroom\"\n",
    "cursor.execute(select_stat)\n",
    "result = cursor.fetchall()\n",
    "print(result)\n",
    "for row in result:\n",
    "    print(row)\n",
    "connection.close()"
   ]
  },
  {
   "cell_type": "code",
   "execution_count": null,
   "metadata": {},
   "outputs": [],
   "source": []
  }
 ],
 "metadata": {
  "kernelspec": {
   "display_name": "Python 3",
   "language": "python",
   "name": "python3"
  },
  "language_info": {
   "codemirror_mode": {
    "name": "ipython",
    "version": 3
   },
   "file_extension": ".py",
   "mimetype": "text/x-python",
   "name": "python",
   "nbconvert_exporter": "python",
   "pygments_lexer": "ipython3",
   "version": "3.7.6"
  }
 },
 "nbformat": 4,
 "nbformat_minor": 4
}
