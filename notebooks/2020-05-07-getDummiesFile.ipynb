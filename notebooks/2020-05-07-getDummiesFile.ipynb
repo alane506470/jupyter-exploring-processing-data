{
 "cells": [
  {
   "cell_type": "code",
   "execution_count": 4,
   "metadata": {},
   "outputs": [],
   "source": [
    "from loadData import loadDate\n",
    "import pandas as pd\n",
    "import numpy as np"
   ]
  },
  {
   "cell_type": "code",
   "execution_count": 2,
   "metadata": {},
   "outputs": [],
   "source": [
    "df = loadDate()"
   ]
  },
  {
   "cell_type": "code",
   "execution_count": 6,
   "metadata": {},
   "outputs": [
    {
     "name": "stdout",
     "output_type": "stream",
     "text": [
      "Writing getDummiesFile.py\n"
     ]
    }
   ],
   "source": [
    "%%writefile getDummiesFile.py\n",
    "import numpy as np\n",
    "from loadData import loadDate\n",
    "import pandas as pd\n",
    "def getData():\n",
    "    df = loadDate()\n",
    "    return df\n",
    "def getDummies():\n",
    "    df=getData()\n",
    "    df['Deck']=df.Cabin.map(lambda x:get_deck(x))\n",
    "    df['Title']=df.Name.map(lambda x:getTitleGroup(x))\n",
    "    df['Fare_Bin']=pd.qcut(df.Fare,4,labels=['very_low','low','high','very_high'])\n",
    "    df['isMother'] = np.where((df.Sex=='female')&(df.Parch>0)&(df.Age>18)&(df.Title!= 'Miss'),1,0)\n",
    "    df['FamilySize']= df.Parch+df.SibSp+1\n",
    "    df['AgeState']=np.where(df.Age>=18,'Adult','Child')\n",
    "    df['isMale']=np.where(df.Sex=='male',1,0)\n",
    "    #對分類要素進行編碼\n",
    "    df=pd.get_dummies(df,columns=['Deck','Fare_Bin','Pclass','Title','Embarked','AgeState'])\n",
    "    return df\n",
    "def getTitleGroup(name):\n",
    "    title_group={'mr':'Mr',\n",
    "                 'mrs':'Mrs',\n",
    "                 'miss':'Miss',\n",
    "                 'master':'Master',\n",
    "                 'don':'Sir',\n",
    "                 'rev':'Sir',\n",
    "                 'dr':'Officer',\n",
    "                 'mme':'Mrs',\n",
    "                 'ms':'Mrs',\n",
    "                 'major':'Officer',\n",
    "                 'lady':'Lady',\n",
    "                 'sir':'Sir',\n",
    "                 'mlle':'Miss',\n",
    "                 'col':'Officer', \n",
    "                 'capt':'Officer',\n",
    "                 'the countess':'Lady',\n",
    "                 'jonkheer':'Sir',\n",
    "                 'dona':'Lady'}\n",
    "    first_name_with_title = name.split(',')[1]\n",
    "    title=first_name_with_title.split('.')[0]\n",
    "    #拿掉所有空格，轉成小寫\n",
    "    title= title.strip().lower()\n",
    "    return repr(title_group[title])\n",
    "def get_deck(cabin):\n",
    "    return np.where(pd.notnull(cabin),str(cabin)[0].upper(),'Z')\n",
    "getDummies()"
   ]
  },
  {
   "cell_type": "code",
   "execution_count": null,
   "metadata": {},
   "outputs": [],
   "source": []
  },
  {
   "cell_type": "code",
   "execution_count": null,
   "metadata": {},
   "outputs": [],
   "source": []
  }
 ],
 "metadata": {
  "kernelspec": {
   "display_name": "Python 3",
   "language": "python",
   "name": "python3"
  },
  "language_info": {
   "codemirror_mode": {
    "name": "ipython",
    "version": 3
   },
   "file_extension": ".py",
   "mimetype": "text/x-python",
   "name": "python",
   "nbconvert_exporter": "python",
   "pygments_lexer": "ipython3",
   "version": "3.7.6"
  }
 },
 "nbformat": 4,
 "nbformat_minor": 4
}
