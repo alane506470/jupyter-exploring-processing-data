{
 "cells": [
  {
   "cell_type": "code",
   "execution_count": 8,
   "metadata": {},
   "outputs": [],
   "source": [
    "get_raw_data_script_file = os.path.join(os.path.pardir,'src','data','get_raw_data.py')"
   ]
  },
  {
   "cell_type": "code",
   "execution_count": 45,
   "metadata": {},
   "outputs": [
    {
     "name": "stdout",
     "output_type": "stream",
     "text": [
      "Overwriting ..\\src\\data\\get_raw_data.py\n"
     ]
    }
   ],
   "source": [
    "%%writefile $get_raw_data_script_file\n",
    "\n",
    "import os\n",
    "from dotenv import find_dotenv,load_dotenv\n",
    "from requests import session\n",
    "import logging\n",
    "import csv\n",
    "from contextlib import closing\n",
    "payload={\n",
    "    'eamil': os.environ.get(\"KAGGLE_USERNAME\"),\n",
    "    'password': os.environ.get(\"KAGGLE_PASSWORD\"),\n",
    "    'X-XSRF-TOKEN': 'CfDJ8LdUzqlsSWBPr4Ce3rb9VL_y_NbFaUd3UvKyA87g-6f_duSDyTbcvnSdqgsUUd6f9nZZgzvwtknzZy7kB1hVo4NezWLbcDUCa0dwX2diSkdFx6_nXb0oy0eNClalAHBUBJB0YPXmzvED6srSMEKcLjY'\n",
    "}\n",
    "\n",
    "def extract_data(url, file_path):\n",
    "    with session() as c:\n",
    "        with open(file_path,'w',encoding=\"utf-8\") as handle:\n",
    "            with closing(c.get(url,verify=False,stream=True)) as r:\n",
    "                lines = (line.decode('utf-8') for line in r.iter_lines())\n",
    "                for row in csv.reader(lines):\n",
    "                    handle.write(\"\".join(row))\n",
    "def main(project_dir):\n",
    "    logger= logging.getLogger(__name__)\n",
    "    logger.info('getting raw data')\n",
    "    \n",
    "    train_url = 'https://apiservice.mol.gov.tw/OdService/download/A17000000J-020067-bVl'\n",
    "    test_url = 'https://apiservice.mol.gov.tw/OdService/download/A17000000J-020028-cAw'\n",
    "    raw_data_path = os.path.join(project_dir,'data', 'raw')\n",
    "    train_data_path = os.path.join(raw_data_path,'train.csv')\n",
    "    test_data_path = os.path.join(raw_data_path, 'test.csv')\n",
    "    \n",
    "    extract_data(train_url,train_data_path)\n",
    "    extract_data(test_url,test_data_path)\n",
    "    logger.info('downloadend raw training and test data')\n",
    "    \n",
    "#os.path.dirname()-返回目錄名稱和路徑包含檔案\n",
    "#os.pardir-往上一層\n",
    "if __name__ =='__main__':\n",
    "    project_dir = os.path.join(os.path.dirname(__file__),os.pardir,os.pardir)\n",
    "    \n",
    "    log_fmt = '%(asctime)s - %(name)s - %(levelname)s - %(message)s'\n",
    "    logging.basicConfig(level=logging.INFO,format=log_fmt)\n",
    "    \n",
    "    dotenv_path = find_dotenv()\n",
    "    load_dotenv(dotenv_path)\n",
    "    \n",
    "    main(project_dir)\n",
    "    "
   ]
  },
  {
   "cell_type": "code",
   "execution_count": 46,
   "metadata": {},
   "outputs": [
    {
     "name": "stderr",
     "output_type": "stream",
     "text": [
      "2020-04-26 00:15:20,219 - __main__ - INFO - getting raw data\n",
      "D:\\ANACONDA\\envs\\ML\\lib\\site-packages\\urllib3\\connectionpool.py:1004: InsecureRequestWarning: Unverified HTTPS request is being made to host 'apiservice.mol.gov.tw'. Adding certificate verification is strongly advised. See: https://urllib3.readthedocs.io/en/latest/advanced-usage.html#ssl-warnings\n",
      "  InsecureRequestWarning,\n",
      "D:\\ANACONDA\\envs\\ML\\lib\\site-packages\\urllib3\\connectionpool.py:1004: InsecureRequestWarning: Unverified HTTPS request is being made to host 'apiservice.mol.gov.tw'. Adding certificate verification is strongly advised. See: https://urllib3.readthedocs.io/en/latest/advanced-usage.html#ssl-warnings\n",
      "  InsecureRequestWarning,\n",
      "2020-04-26 00:15:20,299 - __main__ - INFO - downloadend raw training and test data\n"
     ]
    }
   ],
   "source": [
    "!python $get_raw_data_script_file\n",
    "\n"
   ]
  },
  {
   "cell_type": "code",
   "execution_count": null,
   "metadata": {},
   "outputs": [],
   "source": []
  }
 ],
 "metadata": {
  "kernelspec": {
   "display_name": "Python 3",
   "language": "python",
   "name": "python3"
  },
  "language_info": {
   "codemirror_mode": {
    "name": "ipython",
    "version": 3
   },
   "file_extension": ".py",
   "mimetype": "text/x-python",
   "name": "python",
   "nbconvert_exporter": "python",
   "pygments_lexer": "ipython3",
   "version": "3.7.6"
  }
 },
 "nbformat": 4,
 "nbformat_minor": 4
}
